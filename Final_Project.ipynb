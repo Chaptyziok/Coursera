{
 "cells": [
  {
   "cell_type": "markdown",
   "source": [
    "# Final Project for Tools for Data Science"
   ],
   "metadata": {
    "jupyter": {
     "outputs_hidden": false,
     "source_hidden": false
    },
    "noteable": {
     "cell_type": "markdown"
    }
   },
   "id": "a75fd1af-046d-4a07-9714-01462ed04cdc"
  },
  {
   "cell_type": "markdown",
   "source": [
    "## Introduction\n",
    "\n",
    "This notebook is a final project for the Tools for Data Science course. It includes examples of markdown and code cells, covering various topics in data science."
   ],
   "metadata": {
    "jupyter": {
     "outputs_hidden": false,
     "source_hidden": false
    },
    "noteable": {
     "cell_type": "markdown"
    }
   },
   "id": "0d638635-6d62-4008-af63-e293beb72b0f"
  },
  {
   "cell_type": "markdown",
   "source": [
    "## Data Science Languages\n",
    "\n",
    "1. Python\n",
    "2. R\n",
    "3. SQL\n",
    "4. Julia\n",
    "5. Scala"
   ],
   "metadata": {
    "jupyter": {
     "outputs_hidden": false,
     "source_hidden": false
    },
    "noteable": {
     "cell_type": "markdown"
    }
   },
   "id": "41ea1296-af08-4312-9469-d12518ff8b06"
  },
  {
   "cell_type": "markdown",
   "source": [
    "## Data Science Libraries\n",
    "\n",
    "1. Pandas\n",
    "2. NumPy\n",
    "3. Matplotlib\n",
    "4. Scikit-learn\n",
    "5. TensorFlow"
   ],
   "metadata": {
    "jupyter": {
     "outputs_hidden": false,
     "source_hidden": false
    },
    "noteable": {
     "cell_type": "markdown"
    }
   },
   "id": "238423fe-1953-4505-a11c-371a0c2a14e2"
  },
  {
   "cell_type": "markdown",
   "source": [
    "## Data Science Tools\n",
    "\n",
    "| Tool | Description                                                                                                                                 |\n",
    "| --- |---------------------------------------------------------------------------------------------------------------------------------------------|\n",
    "| Jupyter Notebook | An open-source web application that allows you to create and share documents that contain live code, equations, visualizations etc.         |\n",
    "| Anaconda | A distribution of the Python and R programming languages for scientific computing, that aims to simplify package management and deployment. |\n",
    "| Tableau | A powerful data visualization tool used in the Business Industry.                                                                           |\n",
    "| Excel | A spreadsheet developed by Microsoft for Windows, macOS, Android and iOS.                                                                   |\n",
    "| SQL | A standard language for managing data held in a relational database management system."
   ],
   "metadata": {
    "jupyter": {
     "outputs_hidden": false,
     "source_hidden": false
    },
    "noteable": {
     "cell_type": "markdown"
    }
   },
   "id": "76d6bcf2-9c1f-4a35-972b-5cbe74cc4c87"
  },
  {
   "cell_type": "markdown",
   "source": [
    "## Arithmetic Expression Examples"
   ],
   "metadata": {
    "jupyter": {
     "outputs_hidden": false,
     "source_hidden": false
    },
    "noteable": {
     "cell_type": "markdown"
    }
   },
   "id": "6ff61076-c78e-4ec7-acf9-fd4668ca025c"
  },
  {
   "cell_type": "code",
   "source": [
    "# Multiplication and addition\n",
    "\n",
    "result = 5 * 3 + 2\n",
    "result"
   ],
   "outputs": [
    {
     "data": {
      "text/plain": "17"
     },
     "execution_count": 7,
     "metadata": {},
     "output_type": "execute_result"
    }
   ],
   "execution_count": 7,
   "metadata": {
    "jupyter": {
     "outputs_hidden": false,
     "source_hidden": false
    },
    "noteable": {
     "cell_type": "code"
    },
    "ExecuteTime": {
     "end_time": "2023-06-02T11:46:49.728771500Z",
     "start_time": "2023-06-02T11:46:49.718324800Z"
    }
   },
   "id": "e5708913-a563-40b9-b8c1-b43cf057d224"
  },
  {
   "cell_type": "markdown",
   "source": [
    "# Convert minutes to hours"
   ],
   "metadata": {
    "collapsed": false
   }
  },
  {
   "cell_type": "code",
   "source": [
    "minutes = 120\n",
    "hours = minutes / 60\n",
    "hours"
   ],
   "outputs": [
    {
     "data": {
      "text/plain": "2.0"
     },
     "execution_count": 8,
     "metadata": {},
     "output_type": "execute_result"
    }
   ],
   "execution_count": 8,
   "metadata": {
    "jupyter": {
     "outputs_hidden": false,
     "source_hidden": false
    },
    "noteable": {
     "cell_type": "code"
    },
    "ExecuteTime": {
     "end_time": "2023-06-02T11:46:49.730218800Z",
     "start_time": "2023-06-02T11:46:49.722578900Z"
    }
   },
   "id": "a925ae20-934b-4773-8ddc-77132ff8d314"
  },
  {
   "cell_type": "markdown",
   "source": [
    "## Objectives\n",
    "\n",
    "1. Demonstrate proficiency in using Jupyter notebooks.\n",
    "2. Show understanding of markdown cells and their formatting.\n",
    "3. Show ability to write and execute Python code in code cells.\n",
    "4. Display knowledge of data science languages and libraries.\n",
    "5. Present ability to create and format tables in markdown."
   ],
   "metadata": {
    "jupyter": {
     "outputs_hidden": false,
     "source_hidden": false
    },
    "noteable": {
     "cell_type": "markdown"
    }
   },
   "id": "e5964b05-f45d-410b-a647-72fde57c3132"
  },
  {
   "cell_type": "markdown",
   "source": [
    "## Author\n",
    "\n",
    "Norbert"
   ],
   "metadata": {
    "jupyter": {
     "outputs_hidden": false,
     "source_hidden": false
    },
    "noteable": {
     "cell_type": "markdown"
    }
   },
   "id": "c5f6101d-1ecb-4dd4-9dd3-b22b4d147e33"
  },
  {
   "cell_type": "code",
   "execution_count": 8,
   "outputs": [],
   "source": [],
   "metadata": {
    "collapsed": false,
    "ExecuteTime": {
     "end_time": "2023-06-02T11:46:49.730218800Z",
     "start_time": "2023-06-02T11:46:49.730218800Z"
    }
   }
  }
 ],
 "metadata": {
  "noteable-chatgpt": {
   "create_notebook": {
    "openai_conversation_id": "2d58e0a4-4b4f-5f30-b800-7cbf7578d202",
    "openai_ephemeral_user_id": "1a80530a-61e2-5e64-ab96-ac423f2a56d6",
    "openai_subdivision1_iso_code": "PL-14"
   }
  },
  "noteable": {
   "last_transaction_id": "05f24dde-063e-45ef-9065-af1b9c4811cb",
   "last_delta_id": "be46b8a6-4979-45cc-9211-fe562ebb6ec4"
  },
  "selected_hardware_size": "small",
  "nteract": {
   "version": "noteable@2.9.0"
  },
  "kernelspec": {
   "name": "python3",
   "language": "python",
   "display_name": "Python 3 (ipykernel)"
  }
 },
 "nbformat": 4,
 "nbformat_minor": 5
}
